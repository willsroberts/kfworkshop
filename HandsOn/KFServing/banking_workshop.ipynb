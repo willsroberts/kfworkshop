{
 "cells": [
  {
   "cell_type": "code",
   "execution_count": null,
   "metadata": {},
   "outputs": [],
   "source": [
    "# !pip install pandas numpy scikit-learn matplotlib\n",
    "# !pip install kfserving --upgrade -q \n",
    "# !pip install keras==2.2.5 -q\n",
    "# !pip install scikit-image "
   ]
  },
  {
   "cell_type": "code",
   "execution_count": null,
   "metadata": {},
   "outputs": [],
   "source": [
    "import numpy as np\n",
    "import pandas as pd\n",
    "import sklearn as sk\n",
    "import matplotlib.pyplot as plt\n",
    "\n",
    "from sklearn.linear_model import LogisticRegression\n",
    "from sklearn import tree"
   ]
  },
  {
   "cell_type": "code",
   "execution_count": null,
   "metadata": {},
   "outputs": [],
   "source": [
    "#Uncomment to fetch and unzip dataset\n",
    "#Citation: [Moro et al., 2014] S. Moro, P. Cortez and P. Rita. A Data-Driven Approach to Predict the Success of Bank Telemarketing. Decision Support Systems, Elsevier, 62:22-31, June 2014\n",
    "#https://archive.ics.uci.edu/ml/datasets/Bank+Marketing\n",
    "\n",
    "# !curl -O https://archive.ics.uci.edu/ml/machine-learning-databases/00222/bank.zip\n",
    "# !ls \n",
    "# !unzip bank.zip\n",
    "# !mkdir -p data/bank; mv bank-full.csv data/bank\n",
    "# !mv bank-names.txt data/bank\n",
    "# !rm bank.zip bank.csv\n",
    "# !ls"
   ]
  },
  {
   "cell_type": "code",
   "execution_count": null,
   "metadata": {},
   "outputs": [],
   "source": [
    "#loading the full data set\n",
    "#\n",
    "source_bank_data = pd.read_csv('data/bank/bank-full.csv', delimiter=\";\")\n",
    "source_bank_data ['label'] = source_bank_data ['y'].map(dict(yes=1, no=0))"
   ]
  },
  {
   "cell_type": "code",
   "execution_count": null,
   "metadata": {},
   "outputs": [],
   "source": [
    "#creating label series, creating dummies for categorical variables.\n",
    "#\n",
    "label = source_bank_data['label']\n",
    "source_bank_data = pd.get_dummies(source_bank_data, columns=['housing','loan','education','job','marital','default','contact','poutcome',])"
   ]
  },
  {
   "cell_type": "code",
   "execution_count": null,
   "metadata": {},
   "outputs": [],
   "source": [
    "#cleaning input dataset by converting months to numerical values\n",
    "#\n",
    "calend = {'may':5 , 'jul':7, 'aug':8, 'jun':6, 'nov':11, 'apr':4, 'feb':2, 'jan':1, 'oct':10, 'sep':9, 'mar':3, 'dec':4}\n",
    "source_bank_data['month'] = source_bank_data['month'].map(calend)"
   ]
  },
  {
   "cell_type": "code",
   "execution_count": null,
   "metadata": {},
   "outputs": [],
   "source": [
    "#creating dataframe to use in training from source data\n",
    "#can copy data without concern because a small sample, but be careful with your own data volumes\n",
    "source_bank_data.drop(['y','label'], axis=1, inplace=True) \n",
    "bank_df = source_bank_data.copy()"
   ]
  },
  {
   "cell_type": "code",
   "execution_count": null,
   "metadata": {},
   "outputs": [],
   "source": [
    "#using scikit learn api to create proportioned test and train split\n",
    "#\n",
    "X_train, X_test, y_train, y_test = sk.model_selection.train_test_split(bank_df, label, test_size=0.2, random_state=42)"
   ]
  },
  {
   "cell_type": "code",
   "execution_count": null,
   "metadata": {},
   "outputs": [],
   "source": [
    "#using scikit learn api to train logistic regression model\n",
    "#default parameters solver = \"lbfgs\"\n",
    "logistic_regression = LogisticRegression(penalty = 'l2', max_iter = 15000)\n",
    "log_reg_trained = logistic_regression.fit(X_train, y_train)"
   ]
  },
  {
   "cell_type": "code",
   "execution_count": null,
   "metadata": {},
   "outputs": [],
   "source": [
    "#using fit model to make predictions to evaluate model's metrics\n",
    "#\n",
    "log_test_pred = logistic_regression.predict(X_test)\n",
    "\n",
    "print('Logistic Regression Test Accuracy:', sk.metrics.accuracy_score(y_test, log_test_pred))\n",
    "print('Logistic Regression ROC Score:', sk.metrics.roc_auc_score(y_test, log_test_pred))\n",
    "print('Classification Report:\\n', sk.metrics.classification_report(y_test,log_test_pred))\n"
   ]
  },
  {
   "cell_type": "code",
   "execution_count": null,
   "metadata": {},
   "outputs": [],
   "source": [
    "# ## Uncomment to view feature importance plots\n",
    "# ##\n",
    "# importance = logistic_regression.coef_\n",
    "# # summarize feature importance\n",
    "# for i,v in enumerate(importance[0]):\n",
    "#     print('Feature: %0d, Score: %.5f' % (i,v))\n",
    "# # plot feature importance\n",
    "# plt.bar([x for x in range(len(importance[0]))], importance[0])\n",
    "# plt.show()"
   ]
  },
  {
   "cell_type": "code",
   "execution_count": null,
   "metadata": {},
   "outputs": [],
   "source": [
    "#using scikit learn api to train decision tree classifier\n",
    "#\n",
    "decision_tree = tree.DecisionTreeClassifier() \n",
    "tree_model = decision_tree.fit(X_train, y_train)\n",
    "\n",
    "#using fit model to make predictions to evaluate model's metrics\n",
    "tree_test_predictions = decision_tree.predict(X_test)\n",
    "\n",
    "print('Decision Tree Test Accuracy:', sk.metrics.accuracy_score(y_test, tree_test_predictions))\n",
    "print('Decision Tree ROC Score:', sk.metrics.roc_auc_score(y_test, tree_test_predictions))\n",
    "print('Classification Report:\\n', sk.metrics.classification_report(y_test,tree_test_predictions))"
   ]
  },
  {
   "cell_type": "code",
   "execution_count": null,
   "metadata": {},
   "outputs": [],
   "source": [
    "# # Uncomment to view feature importance plots\n",
    "# #\n",
    "# importance = tree_model.feature_importances_\n",
    "# # summarize feature importance\n",
    "# for i,v in enumerate(importance):\n",
    "#     print('Feature: %0d, Score: %.5f' % (i,v))\n",
    "# # plot feature importance\n",
    "# plt.bar([x for x in range(len(importance))], importance)\n",
    "# plt.show()"
   ]
  },
  {
   "cell_type": "code",
   "execution_count": null,
   "metadata": {},
   "outputs": [],
   "source": [
    "from joblib import dump\n",
    "dump (tree_model,'tree-model.joblib')"
   ]
  },
  {
   "cell_type": "code",
   "execution_count": null,
   "metadata": {},
   "outputs": [],
   "source": [
    "#Documentation for SKLearn Example using KFServing: \n",
    "#https://github.com/kubeflow/kfserving/tree/master/docs/samples/sklearn\n",
    "\n",
    "#This notebook is from a workshop to familiarize people with Kubeflow\n",
    "#and machine learning best practices. The last thing to do is deploy the model\n",
    "#as a part of an inferencing service using KFServing. "
   ]
  },
  {
   "cell_type": "code",
   "execution_count": null,
   "metadata": {},
   "outputs": [],
   "source": [
    "from kubernetes import client\n",
    "\n",
    "from kfserving import KFServingClient\n",
    "from kfserving import constants\n",
    "from kfserving import utils\n",
    "from kfserving import V1alpha2EndpointSpec\n",
    "from kfserving import V1alpha2PredictorSpec\n",
    "from kfserving import V1alpha2SKLearnSpec\n",
    "from kfserving import V1alpha2InferenceServiceSpec\n",
    "from kfserving import V1alpha2InferenceService\n",
    "from kubernetes.client import V1ResourceRequirements\n"
   ]
  },
  {
   "cell_type": "code",
   "execution_count": null,
   "metadata": {},
   "outputs": [],
   "source": [
    "#Fill Out to Create Inference Service"
   ]
  },
  {
   "cell_type": "code",
   "execution_count": null,
   "metadata": {},
   "outputs": [],
   "source": []
  },
  {
   "cell_type": "code",
   "execution_count": null,
   "metadata": {},
   "outputs": [],
   "source": []
  },
  {
   "cell_type": "code",
   "execution_count": null,
   "metadata": {},
   "outputs": [],
   "source": []
  },
  {
   "cell_type": "code",
   "execution_count": null,
   "metadata": {},
   "outputs": [],
   "source": []
  },
  {
   "cell_type": "code",
   "execution_count": null,
   "metadata": {},
   "outputs": [],
   "source": []
  }
 ],
 "metadata": {
  "kernelspec": {
   "display_name": "Python 3",
   "language": "python",
   "name": "python3"
  },
  "language_info": {
   "codemirror_mode": {
    "name": "ipython",
    "version": 3
   },
   "file_extension": ".py",
   "mimetype": "text/x-python",
   "name": "python",
   "nbconvert_exporter": "python",
   "pygments_lexer": "ipython3",
   "version": "3.6.9"
  }
 },
 "nbformat": 4,
 "nbformat_minor": 4
}
